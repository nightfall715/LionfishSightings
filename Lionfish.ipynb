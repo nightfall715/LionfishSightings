{
  "nbformat": 4,
  "nbformat_minor": 0,
  "metadata": {
    "colab": {
      "provenance": []
    },
    "kernelspec": {
      "name": "python3",
      "display_name": "Python 3"
    },
    "language_info": {
      "name": "python"
    }
  },
  "cells": [
    {
      "cell_type": "markdown",
      "source": [
        "#Welcome!\n",
        "This is a walkthrough of how to refine the original database of Lionfish sightings to a more research-applicable subset of sightings from the American Gulf Coast in 2013"
      ],
      "metadata": {
        "id": "swcEUVmqK_RE"
      }
    },
    {
      "cell_type": "markdown",
      "source": [
        "#Prepare Workspace and Dataset"
      ],
      "metadata": {
        "id": "ahRbFQRuIBYn"
      }
    },
    {
      "cell_type": "markdown",
      "source": [
        "**Import and Mount Google Drive**<br>\n",
        "This allows the code to access the dataset, if saved in Drive"
      ],
      "metadata": {
        "id": "qyJxvI1B_FDW"
      }
    },
    {
      "cell_type": "code",
      "execution_count": 2,
      "metadata": {
        "colab": {
          "base_uri": "https://localhost:8080/"
        },
        "id": "MLQAWRiD-Eav",
        "outputId": "3f5491bb-8655-4ce8-dc75-6590b0ea1f0e"
      },
      "outputs": [
        {
          "output_type": "stream",
          "name": "stdout",
          "text": [
            "Mounted at /content/gdrive\n"
          ]
        }
      ],
      "source": [
        "from google.colab import drive\n",
        "drive.mount('/content/gdrive')"
      ]
    },
    {
      "cell_type": "markdown",
      "source": [
        "**Import Packages**<br>\n",
        "This allows for manipulation of the dataset"
      ],
      "metadata": {
        "id": "d5HN_vioGPWU"
      }
    },
    {
      "cell_type": "code",
      "source": [
        "import numpy as np\n",
        "import pandas as pd"
      ],
      "metadata": {
        "id": "ZTzT-rL4-PZf"
      },
      "execution_count": 3,
      "outputs": []
    },
    {
      "cell_type": "markdown",
      "source": [
        "**Import Dataset**"
      ],
      "metadata": {
        "id": "vFNgGXv7GcJ0"
      }
    },
    {
      "cell_type": "code",
      "source": [
        "df=pd.read_csv('gdrive/My Drive/Colab Notebooks/LionfishData(in).csv', encoding='latin-1')"
      ],
      "metadata": {
        "id": "MzXzZ5AK-UIG"
      },
      "execution_count": 4,
      "outputs": []
    },
    {
      "cell_type": "markdown",
      "source": [
        "**Review Data** <br>\n",
        "Use `.shape`, `.size`, and `.columns` functions to assess the size and features of the original dataset"
      ],
      "metadata": {
        "id": "4IKUa47k_Mxo"
      }
    },
    {
      "cell_type": "code",
      "source": [
        "df.shape"
      ],
      "metadata": {
        "colab": {
          "base_uri": "https://localhost:8080/"
        },
        "id": "LHz8lniD-4ML",
        "outputId": "0c8d798b-795a-4897-861e-4d215f6b8ce2"
      },
      "execution_count": 5,
      "outputs": [
        {
          "output_type": "execute_result",
          "data": {
            "text/plain": [
              "(12088, 67)"
            ]
          },
          "metadata": {},
          "execution_count": 5
        }
      ]
    },
    {
      "cell_type": "code",
      "source": [
        "df.size"
      ],
      "metadata": {
        "colab": {
          "base_uri": "https://localhost:8080/"
        },
        "id": "csG5P27A_ADE",
        "outputId": "da5fdd81-3b7e-4db2-f61e-6cbc88e95da4"
      },
      "execution_count": 6,
      "outputs": [
        {
          "output_type": "execute_result",
          "data": {
            "text/plain": [
              "809896"
            ]
          },
          "metadata": {},
          "execution_count": 6
        }
      ]
    },
    {
      "cell_type": "code",
      "source": [
        "df.columns"
      ],
      "metadata": {
        "colab": {
          "base_uri": "https://localhost:8080/"
        },
        "id": "mUdLreux_QNI",
        "outputId": "606d3ebe-c0b2-4b17-a43e-e07bfee987c7"
      },
      "execution_count": 7,
      "outputs": [
        {
          "output_type": "execute_result",
          "data": {
            "text/plain": [
              "Index(['Specimen Number', 'Species ID', 'Group', 'Family', 'Scientific Name',\n",
              "       'Common Name', 'Country', 'State', 'County', 'Locality', 'Latitude',\n",
              "       'Longitude', 'Source', 'Accuracy', 'Drainage Name', 'HUC 8 Number',\n",
              "       'Year', 'Month', 'Day', 'Status', 'Comments', 'record_type', 'disposal',\n",
              "       'Museum_Cat_No', 'fresh_marine_intro', 'Reference 1', 'Type 1',\n",
              "       'Date 1', 'Author 1', 'Title 1', 'Publisher 1', 'Location 1',\n",
              "       'Reference 2', 'Type 2', 'Date 2', 'Author 2', 'Title 2', 'Publisher 2',\n",
              "       'Location 2', 'Reference 3', 'Type 3', 'Date 3', 'Author 3', 'Title 3',\n",
              "       'Publisher 3', 'Location 3', 'Reference 4', 'Type 4', 'Date 4',\n",
              "       'Author 4', 'Title 4', 'Publisher 4', 'Location 4', 'Reference 5',\n",
              "       'Type 5', 'Date 5', 'Author 5', 'Title 5', 'Publisher 5', 'Location 5',\n",
              "       'Reference 6', 'Type 6', 'Date 6', 'Author 6', 'Title 6', 'Publisher 6',\n",
              "       'Location 6'],\n",
              "      dtype='object')"
            ]
          },
          "metadata": {},
          "execution_count": 7
        }
      ]
    },
    {
      "cell_type": "markdown",
      "source": [
        "#Refine Dataset <br>\n"
      ],
      "metadata": {
        "id": "TMnwTBGyHJtZ"
      }
    },
    {
      "cell_type": "markdown",
      "source": [
        "**Filter by Feature: State** <br>\n",
        "To assess Lionfish sightings along the US Gulf Coast in particular, select only Gulf Coast states from the dataset <br><br>\n",
        "1. Create subset of USA sightings\n",
        "2. Use `.value_counts` to note the Gulf Coast states included in the data\n",
        "3. Create individual subsets of data from each of the Gulf Coast states\n",
        "4. Use `.concat` to combine these subsets into a Gulf Coast state dataset\n"
      ],
      "metadata": {
        "id": "zP0zjnYQIRPO"
      }
    },
    {
      "cell_type": "code",
      "source": [
        "USA_data = df[df[\"Country\"] == \"United States of America\"]\n",
        "USA_data.value_counts(\"State\")"
      ],
      "metadata": {
        "colab": {
          "base_uri": "https://localhost:8080/",
          "height": 548
        },
        "id": "UQ2LsWxgKmdo",
        "outputId": "8a0ba96c-e9e1-4c8a-d73f-1e20a811a725"
      },
      "execution_count": 8,
      "outputs": [
        {
          "output_type": "execute_result",
          "data": {
            "text/plain": [
              "State\n",
              "FL    6944\n",
              "TX     841\n",
              "LA     349\n",
              "AL     310\n",
              "VI     253\n",
              "MS     247\n",
              "PR     198\n",
              "NC     135\n",
              "SC      51\n",
              "GA      32\n",
              "NY      25\n",
              "RI       6\n",
              "NJ       3\n",
              "VA       1\n",
              "Name: count, dtype: int64"
            ],
            "text/html": [
              "<div>\n",
              "<style scoped>\n",
              "    .dataframe tbody tr th:only-of-type {\n",
              "        vertical-align: middle;\n",
              "    }\n",
              "\n",
              "    .dataframe tbody tr th {\n",
              "        vertical-align: top;\n",
              "    }\n",
              "\n",
              "    .dataframe thead th {\n",
              "        text-align: right;\n",
              "    }\n",
              "</style>\n",
              "<table border=\"1\" class=\"dataframe\">\n",
              "  <thead>\n",
              "    <tr style=\"text-align: right;\">\n",
              "      <th></th>\n",
              "      <th>count</th>\n",
              "    </tr>\n",
              "    <tr>\n",
              "      <th>State</th>\n",
              "      <th></th>\n",
              "    </tr>\n",
              "  </thead>\n",
              "  <tbody>\n",
              "    <tr>\n",
              "      <th>FL</th>\n",
              "      <td>6944</td>\n",
              "    </tr>\n",
              "    <tr>\n",
              "      <th>TX</th>\n",
              "      <td>841</td>\n",
              "    </tr>\n",
              "    <tr>\n",
              "      <th>LA</th>\n",
              "      <td>349</td>\n",
              "    </tr>\n",
              "    <tr>\n",
              "      <th>AL</th>\n",
              "      <td>310</td>\n",
              "    </tr>\n",
              "    <tr>\n",
              "      <th>VI</th>\n",
              "      <td>253</td>\n",
              "    </tr>\n",
              "    <tr>\n",
              "      <th>MS</th>\n",
              "      <td>247</td>\n",
              "    </tr>\n",
              "    <tr>\n",
              "      <th>PR</th>\n",
              "      <td>198</td>\n",
              "    </tr>\n",
              "    <tr>\n",
              "      <th>NC</th>\n",
              "      <td>135</td>\n",
              "    </tr>\n",
              "    <tr>\n",
              "      <th>SC</th>\n",
              "      <td>51</td>\n",
              "    </tr>\n",
              "    <tr>\n",
              "      <th>GA</th>\n",
              "      <td>32</td>\n",
              "    </tr>\n",
              "    <tr>\n",
              "      <th>NY</th>\n",
              "      <td>25</td>\n",
              "    </tr>\n",
              "    <tr>\n",
              "      <th>RI</th>\n",
              "      <td>6</td>\n",
              "    </tr>\n",
              "    <tr>\n",
              "      <th>NJ</th>\n",
              "      <td>3</td>\n",
              "    </tr>\n",
              "    <tr>\n",
              "      <th>VA</th>\n",
              "      <td>1</td>\n",
              "    </tr>\n",
              "  </tbody>\n",
              "</table>\n",
              "</div><br><label><b>dtype:</b> int64</label>"
            ]
          },
          "metadata": {},
          "execution_count": 8
        }
      ]
    },
    {
      "cell_type": "code",
      "source": [
        "FL_subset = df[df[\"State\"] == \"FL\"]"
      ],
      "metadata": {
        "id": "6nKDBsrMLCSE"
      },
      "execution_count": 9,
      "outputs": []
    },
    {
      "cell_type": "code",
      "source": [
        "LA_subset = df[df[\"State\"] == \"LA\"]"
      ],
      "metadata": {
        "id": "MuH4sO1kLRGA"
      },
      "execution_count": 10,
      "outputs": []
    },
    {
      "cell_type": "code",
      "source": [
        "AL_subset = df[df[\"State\"] == \"AL\"]"
      ],
      "metadata": {
        "id": "1glANXfvR8Oa"
      },
      "execution_count": 11,
      "outputs": []
    },
    {
      "cell_type": "code",
      "source": [
        "TX_subset = df[df[\"State\"] == \"TX\"]"
      ],
      "metadata": {
        "id": "bzSa3QrZStaT"
      },
      "execution_count": 12,
      "outputs": []
    },
    {
      "cell_type": "code",
      "source": [
        "MS_subset = df[df[\"State\"] == \"MS\"]"
      ],
      "metadata": {
        "id": "6O4YhzXRS0X1"
      },
      "execution_count": 13,
      "outputs": []
    },
    {
      "cell_type": "code",
      "source": [
        "GULF = pd.concat([FL_subset,LA_subset,AL_subset,TX_subset, MS_subset],axis=0,ignore_index=True,sort=False)"
      ],
      "metadata": {
        "id": "mWwSSWvfLQ83"
      },
      "execution_count": 14,
      "outputs": []
    },
    {
      "cell_type": "markdown",
      "source": [
        "**Filter by Feature: Year**<br>\n",
        "To assess Lionfish sightings from 2013 in particular, create a subset from the Gulf Coast state dataset with sightings from that year <br><br>\n"
      ],
      "metadata": {
        "id": "T1cGSgzcJpxe"
      }
    },
    {
      "cell_type": "code",
      "source": [
        "GULFA = GULF[GULF[\"Year\"] == 2013]"
      ],
      "metadata": {
        "id": "rA-QkXvkTm9l"
      },
      "execution_count": 15,
      "outputs": []
    },
    {
      "cell_type": "markdown",
      "source": [
        "#Review and Save Dataset"
      ],
      "metadata": {
        "id": "Wcn3bJCHKIdT"
      }
    },
    {
      "cell_type": "markdown",
      "source": [
        "**View the Dataset**<br>\n",
        "Check the abbreviated dataset returned to make sure the filters were correctly applied"
      ],
      "metadata": {
        "id": "_0PRfpgxKaG7"
      }
    },
    {
      "cell_type": "code",
      "source": [
        "GULFA"
      ],
      "metadata": {
        "colab": {
          "base_uri": "https://localhost:8080/",
          "height": 1000
        },
        "id": "y5jhKfy_LgMX",
        "outputId": "e5a1a74f-cc21-47cd-fba2-844cfc9a7e87"
      },
      "execution_count": 16,
      "outputs": [
        {
          "output_type": "execute_result",
          "data": {
            "text/plain": [
              "      Specimen Number  Species ID          Group        Family  \\\n",
              "2             1339724         963  Marine Fishes  Scorpaenidae   \n",
              "3             1339710         963  Marine Fishes  Scorpaenidae   \n",
              "4             1339512         963  Marine Fishes  Scorpaenidae   \n",
              "71            1339469         963  Marine Fishes  Scorpaenidae   \n",
              "72            1339484         963  Marine Fishes  Scorpaenidae   \n",
              "...               ...         ...            ...           ...   \n",
              "8672          1414389         963  Marine Fishes  Scorpaenidae   \n",
              "8673          1414390         963  Marine Fishes  Scorpaenidae   \n",
              "8674          1414391         963  Marine Fishes  Scorpaenidae   \n",
              "8675          1414392         963  Marine Fishes  Scorpaenidae   \n",
              "8692           558064         963  Marine Fishes  Scorpaenidae   \n",
              "\n",
              "             Scientific Name Common Name                   Country State  \\\n",
              "2     Pterois volitans/miles    lionfish  United States of America    FL   \n",
              "3     Pterois volitans/miles    lionfish  United States of America    FL   \n",
              "4     Pterois volitans/miles    lionfish  United States of America    FL   \n",
              "71    Pterois volitans/miles    lionfish  United States of America    FL   \n",
              "72    Pterois volitans/miles    lionfish  United States of America    FL   \n",
              "...                      ...         ...                       ...   ...   \n",
              "8672  Pterois volitans/miles    lionfish  United States of America    MS   \n",
              "8673  Pterois volitans/miles    lionfish  United States of America    MS   \n",
              "8674  Pterois volitans/miles    lionfish  United States of America    MS   \n",
              "8675  Pterois volitans/miles    lionfish  United States of America    MS   \n",
              "8692  Pterois volitans/miles    lionfish  United States of America    MS   \n",
              "\n",
              "        County                                           Locality  ...  \\\n",
              "2          NaN  Atlantic Ocean, Florida Keys, Key Largo, Eagle...  ...   \n",
              "3          NaN  Atlantic Ocean, Florida Keys, south of America...  ...   \n",
              "4          NaN               Gulf of Mexico, Florida, Cutter Rock  ...   \n",
              "71         NaN         Atlantic Ocean, Florida Keys, Dixie Shoals  ...   \n",
              "72         NaN         Atlantic Ocean, Florida Keys, Eagle Ray II  ...   \n",
              "...        ...                                                ...  ...   \n",
              "8672       NaN                Gulf of Mexico, Mississippi, VK-384  ...   \n",
              "8673       NaN                Gulf of Mexico, Mississippi, VK-384  ...   \n",
              "8674       NaN                Gulf of Mexico, Mississippi, VK-384  ...   \n",
              "8675       NaN                Gulf of Mexico, Mississippi, VK-384  ...   \n",
              "8692  Harrison  Gulf of Mexico, Mississippi, Gulfport, near co...  ...   \n",
              "\n",
              "      Title 5  Publisher 5 Location 5 Reference 6 Type 6  Date 6  Author 6  \\\n",
              "2         NaN          NaN        NaN         NaN    NaN     NaN       NaN   \n",
              "3         NaN          NaN        NaN         NaN    NaN     NaN       NaN   \n",
              "4         NaN          NaN        NaN         NaN    NaN     NaN       NaN   \n",
              "71        NaN          NaN        NaN         NaN    NaN     NaN       NaN   \n",
              "72        NaN          NaN        NaN         NaN    NaN     NaN       NaN   \n",
              "...       ...          ...        ...         ...    ...     ...       ...   \n",
              "8672      NaN          NaN        NaN         NaN    NaN     NaN       NaN   \n",
              "8673      NaN          NaN        NaN         NaN    NaN     NaN       NaN   \n",
              "8674      NaN          NaN        NaN         NaN    NaN     NaN       NaN   \n",
              "8675      NaN          NaN        NaN         NaN    NaN     NaN       NaN   \n",
              "8692      NaN          NaN        NaN         NaN    NaN     NaN       NaN   \n",
              "\n",
              "      Title 6  Publisher 6 Location 6  \n",
              "2         NaN          NaN        NaN  \n",
              "3         NaN          NaN        NaN  \n",
              "4         NaN          NaN        NaN  \n",
              "71        NaN          NaN        NaN  \n",
              "72        NaN          NaN        NaN  \n",
              "...       ...          ...        ...  \n",
              "8672      NaN          NaN        NaN  \n",
              "8673      NaN          NaN        NaN  \n",
              "8674      NaN          NaN        NaN  \n",
              "8675      NaN          NaN        NaN  \n",
              "8692      NaN          NaN        NaN  \n",
              "\n",
              "[2415 rows x 67 columns]"
            ],
            "text/html": [
              "\n",
              "  <div id=\"df-346bb0fb-df5d-40c1-8844-26320269cd98\" class=\"colab-df-container\">\n",
              "    <div>\n",
              "<style scoped>\n",
              "    .dataframe tbody tr th:only-of-type {\n",
              "        vertical-align: middle;\n",
              "    }\n",
              "\n",
              "    .dataframe tbody tr th {\n",
              "        vertical-align: top;\n",
              "    }\n",
              "\n",
              "    .dataframe thead th {\n",
              "        text-align: right;\n",
              "    }\n",
              "</style>\n",
              "<table border=\"1\" class=\"dataframe\">\n",
              "  <thead>\n",
              "    <tr style=\"text-align: right;\">\n",
              "      <th></th>\n",
              "      <th>Specimen Number</th>\n",
              "      <th>Species ID</th>\n",
              "      <th>Group</th>\n",
              "      <th>Family</th>\n",
              "      <th>Scientific Name</th>\n",
              "      <th>Common Name</th>\n",
              "      <th>Country</th>\n",
              "      <th>State</th>\n",
              "      <th>County</th>\n",
              "      <th>Locality</th>\n",
              "      <th>...</th>\n",
              "      <th>Title 5</th>\n",
              "      <th>Publisher 5</th>\n",
              "      <th>Location 5</th>\n",
              "      <th>Reference 6</th>\n",
              "      <th>Type 6</th>\n",
              "      <th>Date 6</th>\n",
              "      <th>Author 6</th>\n",
              "      <th>Title 6</th>\n",
              "      <th>Publisher 6</th>\n",
              "      <th>Location 6</th>\n",
              "    </tr>\n",
              "  </thead>\n",
              "  <tbody>\n",
              "    <tr>\n",
              "      <th>2</th>\n",
              "      <td>1339724</td>\n",
              "      <td>963</td>\n",
              "      <td>Marine Fishes</td>\n",
              "      <td>Scorpaenidae</td>\n",
              "      <td>Pterois volitans/miles</td>\n",
              "      <td>lionfish</td>\n",
              "      <td>United States of America</td>\n",
              "      <td>FL</td>\n",
              "      <td>NaN</td>\n",
              "      <td>Atlantic Ocean, Florida Keys, Key Largo, Eagle...</td>\n",
              "      <td>...</td>\n",
              "      <td>NaN</td>\n",
              "      <td>NaN</td>\n",
              "      <td>NaN</td>\n",
              "      <td>NaN</td>\n",
              "      <td>NaN</td>\n",
              "      <td>NaN</td>\n",
              "      <td>NaN</td>\n",
              "      <td>NaN</td>\n",
              "      <td>NaN</td>\n",
              "      <td>NaN</td>\n",
              "    </tr>\n",
              "    <tr>\n",
              "      <th>3</th>\n",
              "      <td>1339710</td>\n",
              "      <td>963</td>\n",
              "      <td>Marine Fishes</td>\n",
              "      <td>Scorpaenidae</td>\n",
              "      <td>Pterois volitans/miles</td>\n",
              "      <td>lionfish</td>\n",
              "      <td>United States of America</td>\n",
              "      <td>FL</td>\n",
              "      <td>NaN</td>\n",
              "      <td>Atlantic Ocean, Florida Keys, south of America...</td>\n",
              "      <td>...</td>\n",
              "      <td>NaN</td>\n",
              "      <td>NaN</td>\n",
              "      <td>NaN</td>\n",
              "      <td>NaN</td>\n",
              "      <td>NaN</td>\n",
              "      <td>NaN</td>\n",
              "      <td>NaN</td>\n",
              "      <td>NaN</td>\n",
              "      <td>NaN</td>\n",
              "      <td>NaN</td>\n",
              "    </tr>\n",
              "    <tr>\n",
              "      <th>4</th>\n",
              "      <td>1339512</td>\n",
              "      <td>963</td>\n",
              "      <td>Marine Fishes</td>\n",
              "      <td>Scorpaenidae</td>\n",
              "      <td>Pterois volitans/miles</td>\n",
              "      <td>lionfish</td>\n",
              "      <td>United States of America</td>\n",
              "      <td>FL</td>\n",
              "      <td>NaN</td>\n",
              "      <td>Gulf of Mexico, Florida, Cutter Rock</td>\n",
              "      <td>...</td>\n",
              "      <td>NaN</td>\n",
              "      <td>NaN</td>\n",
              "      <td>NaN</td>\n",
              "      <td>NaN</td>\n",
              "      <td>NaN</td>\n",
              "      <td>NaN</td>\n",
              "      <td>NaN</td>\n",
              "      <td>NaN</td>\n",
              "      <td>NaN</td>\n",
              "      <td>NaN</td>\n",
              "    </tr>\n",
              "    <tr>\n",
              "      <th>71</th>\n",
              "      <td>1339469</td>\n",
              "      <td>963</td>\n",
              "      <td>Marine Fishes</td>\n",
              "      <td>Scorpaenidae</td>\n",
              "      <td>Pterois volitans/miles</td>\n",
              "      <td>lionfish</td>\n",
              "      <td>United States of America</td>\n",
              "      <td>FL</td>\n",
              "      <td>NaN</td>\n",
              "      <td>Atlantic Ocean, Florida Keys, Dixie Shoals</td>\n",
              "      <td>...</td>\n",
              "      <td>NaN</td>\n",
              "      <td>NaN</td>\n",
              "      <td>NaN</td>\n",
              "      <td>NaN</td>\n",
              "      <td>NaN</td>\n",
              "      <td>NaN</td>\n",
              "      <td>NaN</td>\n",
              "      <td>NaN</td>\n",
              "      <td>NaN</td>\n",
              "      <td>NaN</td>\n",
              "    </tr>\n",
              "    <tr>\n",
              "      <th>72</th>\n",
              "      <td>1339484</td>\n",
              "      <td>963</td>\n",
              "      <td>Marine Fishes</td>\n",
              "      <td>Scorpaenidae</td>\n",
              "      <td>Pterois volitans/miles</td>\n",
              "      <td>lionfish</td>\n",
              "      <td>United States of America</td>\n",
              "      <td>FL</td>\n",
              "      <td>NaN</td>\n",
              "      <td>Atlantic Ocean, Florida Keys, Eagle Ray II</td>\n",
              "      <td>...</td>\n",
              "      <td>NaN</td>\n",
              "      <td>NaN</td>\n",
              "      <td>NaN</td>\n",
              "      <td>NaN</td>\n",
              "      <td>NaN</td>\n",
              "      <td>NaN</td>\n",
              "      <td>NaN</td>\n",
              "      <td>NaN</td>\n",
              "      <td>NaN</td>\n",
              "      <td>NaN</td>\n",
              "    </tr>\n",
              "    <tr>\n",
              "      <th>...</th>\n",
              "      <td>...</td>\n",
              "      <td>...</td>\n",
              "      <td>...</td>\n",
              "      <td>...</td>\n",
              "      <td>...</td>\n",
              "      <td>...</td>\n",
              "      <td>...</td>\n",
              "      <td>...</td>\n",
              "      <td>...</td>\n",
              "      <td>...</td>\n",
              "      <td>...</td>\n",
              "      <td>...</td>\n",
              "      <td>...</td>\n",
              "      <td>...</td>\n",
              "      <td>...</td>\n",
              "      <td>...</td>\n",
              "      <td>...</td>\n",
              "      <td>...</td>\n",
              "      <td>...</td>\n",
              "      <td>...</td>\n",
              "      <td>...</td>\n",
              "    </tr>\n",
              "    <tr>\n",
              "      <th>8672</th>\n",
              "      <td>1414389</td>\n",
              "      <td>963</td>\n",
              "      <td>Marine Fishes</td>\n",
              "      <td>Scorpaenidae</td>\n",
              "      <td>Pterois volitans/miles</td>\n",
              "      <td>lionfish</td>\n",
              "      <td>United States of America</td>\n",
              "      <td>MS</td>\n",
              "      <td>NaN</td>\n",
              "      <td>Gulf of Mexico, Mississippi, VK-384</td>\n",
              "      <td>...</td>\n",
              "      <td>NaN</td>\n",
              "      <td>NaN</td>\n",
              "      <td>NaN</td>\n",
              "      <td>NaN</td>\n",
              "      <td>NaN</td>\n",
              "      <td>NaN</td>\n",
              "      <td>NaN</td>\n",
              "      <td>NaN</td>\n",
              "      <td>NaN</td>\n",
              "      <td>NaN</td>\n",
              "    </tr>\n",
              "    <tr>\n",
              "      <th>8673</th>\n",
              "      <td>1414390</td>\n",
              "      <td>963</td>\n",
              "      <td>Marine Fishes</td>\n",
              "      <td>Scorpaenidae</td>\n",
              "      <td>Pterois volitans/miles</td>\n",
              "      <td>lionfish</td>\n",
              "      <td>United States of America</td>\n",
              "      <td>MS</td>\n",
              "      <td>NaN</td>\n",
              "      <td>Gulf of Mexico, Mississippi, VK-384</td>\n",
              "      <td>...</td>\n",
              "      <td>NaN</td>\n",
              "      <td>NaN</td>\n",
              "      <td>NaN</td>\n",
              "      <td>NaN</td>\n",
              "      <td>NaN</td>\n",
              "      <td>NaN</td>\n",
              "      <td>NaN</td>\n",
              "      <td>NaN</td>\n",
              "      <td>NaN</td>\n",
              "      <td>NaN</td>\n",
              "    </tr>\n",
              "    <tr>\n",
              "      <th>8674</th>\n",
              "      <td>1414391</td>\n",
              "      <td>963</td>\n",
              "      <td>Marine Fishes</td>\n",
              "      <td>Scorpaenidae</td>\n",
              "      <td>Pterois volitans/miles</td>\n",
              "      <td>lionfish</td>\n",
              "      <td>United States of America</td>\n",
              "      <td>MS</td>\n",
              "      <td>NaN</td>\n",
              "      <td>Gulf of Mexico, Mississippi, VK-384</td>\n",
              "      <td>...</td>\n",
              "      <td>NaN</td>\n",
              "      <td>NaN</td>\n",
              "      <td>NaN</td>\n",
              "      <td>NaN</td>\n",
              "      <td>NaN</td>\n",
              "      <td>NaN</td>\n",
              "      <td>NaN</td>\n",
              "      <td>NaN</td>\n",
              "      <td>NaN</td>\n",
              "      <td>NaN</td>\n",
              "    </tr>\n",
              "    <tr>\n",
              "      <th>8675</th>\n",
              "      <td>1414392</td>\n",
              "      <td>963</td>\n",
              "      <td>Marine Fishes</td>\n",
              "      <td>Scorpaenidae</td>\n",
              "      <td>Pterois volitans/miles</td>\n",
              "      <td>lionfish</td>\n",
              "      <td>United States of America</td>\n",
              "      <td>MS</td>\n",
              "      <td>NaN</td>\n",
              "      <td>Gulf of Mexico, Mississippi, VK-384</td>\n",
              "      <td>...</td>\n",
              "      <td>NaN</td>\n",
              "      <td>NaN</td>\n",
              "      <td>NaN</td>\n",
              "      <td>NaN</td>\n",
              "      <td>NaN</td>\n",
              "      <td>NaN</td>\n",
              "      <td>NaN</td>\n",
              "      <td>NaN</td>\n",
              "      <td>NaN</td>\n",
              "      <td>NaN</td>\n",
              "    </tr>\n",
              "    <tr>\n",
              "      <th>8692</th>\n",
              "      <td>558064</td>\n",
              "      <td>963</td>\n",
              "      <td>Marine Fishes</td>\n",
              "      <td>Scorpaenidae</td>\n",
              "      <td>Pterois volitans/miles</td>\n",
              "      <td>lionfish</td>\n",
              "      <td>United States of America</td>\n",
              "      <td>MS</td>\n",
              "      <td>Harrison</td>\n",
              "      <td>Gulf of Mexico, Mississippi, Gulfport, near co...</td>\n",
              "      <td>...</td>\n",
              "      <td>NaN</td>\n",
              "      <td>NaN</td>\n",
              "      <td>NaN</td>\n",
              "      <td>NaN</td>\n",
              "      <td>NaN</td>\n",
              "      <td>NaN</td>\n",
              "      <td>NaN</td>\n",
              "      <td>NaN</td>\n",
              "      <td>NaN</td>\n",
              "      <td>NaN</td>\n",
              "    </tr>\n",
              "  </tbody>\n",
              "</table>\n",
              "<p>2415 rows × 67 columns</p>\n",
              "</div>\n",
              "    <div class=\"colab-df-buttons\">\n",
              "\n",
              "  <div class=\"colab-df-container\">\n",
              "    <button class=\"colab-df-convert\" onclick=\"convertToInteractive('df-346bb0fb-df5d-40c1-8844-26320269cd98')\"\n",
              "            title=\"Convert this dataframe to an interactive table.\"\n",
              "            style=\"display:none;\">\n",
              "\n",
              "  <svg xmlns=\"http://www.w3.org/2000/svg\" height=\"24px\" viewBox=\"0 -960 960 960\">\n",
              "    <path d=\"M120-120v-720h720v720H120Zm60-500h600v-160H180v160Zm220 220h160v-160H400v160Zm0 220h160v-160H400v160ZM180-400h160v-160H180v160Zm440 0h160v-160H620v160ZM180-180h160v-160H180v160Zm440 0h160v-160H620v160Z\"/>\n",
              "  </svg>\n",
              "    </button>\n",
              "\n",
              "  <style>\n",
              "    .colab-df-container {\n",
              "      display:flex;\n",
              "      gap: 12px;\n",
              "    }\n",
              "\n",
              "    .colab-df-convert {\n",
              "      background-color: #E8F0FE;\n",
              "      border: none;\n",
              "      border-radius: 50%;\n",
              "      cursor: pointer;\n",
              "      display: none;\n",
              "      fill: #1967D2;\n",
              "      height: 32px;\n",
              "      padding: 0 0 0 0;\n",
              "      width: 32px;\n",
              "    }\n",
              "\n",
              "    .colab-df-convert:hover {\n",
              "      background-color: #E2EBFA;\n",
              "      box-shadow: 0px 1px 2px rgba(60, 64, 67, 0.3), 0px 1px 3px 1px rgba(60, 64, 67, 0.15);\n",
              "      fill: #174EA6;\n",
              "    }\n",
              "\n",
              "    .colab-df-buttons div {\n",
              "      margin-bottom: 4px;\n",
              "    }\n",
              "\n",
              "    [theme=dark] .colab-df-convert {\n",
              "      background-color: #3B4455;\n",
              "      fill: #D2E3FC;\n",
              "    }\n",
              "\n",
              "    [theme=dark] .colab-df-convert:hover {\n",
              "      background-color: #434B5C;\n",
              "      box-shadow: 0px 1px 3px 1px rgba(0, 0, 0, 0.15);\n",
              "      filter: drop-shadow(0px 1px 2px rgba(0, 0, 0, 0.3));\n",
              "      fill: #FFFFFF;\n",
              "    }\n",
              "  </style>\n",
              "\n",
              "    <script>\n",
              "      const buttonEl =\n",
              "        document.querySelector('#df-346bb0fb-df5d-40c1-8844-26320269cd98 button.colab-df-convert');\n",
              "      buttonEl.style.display =\n",
              "        google.colab.kernel.accessAllowed ? 'block' : 'none';\n",
              "\n",
              "      async function convertToInteractive(key) {\n",
              "        const element = document.querySelector('#df-346bb0fb-df5d-40c1-8844-26320269cd98');\n",
              "        const dataTable =\n",
              "          await google.colab.kernel.invokeFunction('convertToInteractive',\n",
              "                                                    [key], {});\n",
              "        if (!dataTable) return;\n",
              "\n",
              "        const docLinkHtml = 'Like what you see? Visit the ' +\n",
              "          '<a target=\"_blank\" href=https://colab.research.google.com/notebooks/data_table.ipynb>data table notebook</a>'\n",
              "          + ' to learn more about interactive tables.';\n",
              "        element.innerHTML = '';\n",
              "        dataTable['output_type'] = 'display_data';\n",
              "        await google.colab.output.renderOutput(dataTable, element);\n",
              "        const docLink = document.createElement('div');\n",
              "        docLink.innerHTML = docLinkHtml;\n",
              "        element.appendChild(docLink);\n",
              "      }\n",
              "    </script>\n",
              "  </div>\n",
              "\n",
              "\n",
              "<div id=\"df-f8c8ec8e-5f5e-4643-9b31-e984c7dd6d6b\">\n",
              "  <button class=\"colab-df-quickchart\" onclick=\"quickchart('df-f8c8ec8e-5f5e-4643-9b31-e984c7dd6d6b')\"\n",
              "            title=\"Suggest charts\"\n",
              "            style=\"display:none;\">\n",
              "\n",
              "<svg xmlns=\"http://www.w3.org/2000/svg\" height=\"24px\"viewBox=\"0 0 24 24\"\n",
              "     width=\"24px\">\n",
              "    <g>\n",
              "        <path d=\"M19 3H5c-1.1 0-2 .9-2 2v14c0 1.1.9 2 2 2h14c1.1 0 2-.9 2-2V5c0-1.1-.9-2-2-2zM9 17H7v-7h2v7zm4 0h-2V7h2v10zm4 0h-2v-4h2v4z\"/>\n",
              "    </g>\n",
              "</svg>\n",
              "  </button>\n",
              "\n",
              "<style>\n",
              "  .colab-df-quickchart {\n",
              "      --bg-color: #E8F0FE;\n",
              "      --fill-color: #1967D2;\n",
              "      --hover-bg-color: #E2EBFA;\n",
              "      --hover-fill-color: #174EA6;\n",
              "      --disabled-fill-color: #AAA;\n",
              "      --disabled-bg-color: #DDD;\n",
              "  }\n",
              "\n",
              "  [theme=dark] .colab-df-quickchart {\n",
              "      --bg-color: #3B4455;\n",
              "      --fill-color: #D2E3FC;\n",
              "      --hover-bg-color: #434B5C;\n",
              "      --hover-fill-color: #FFFFFF;\n",
              "      --disabled-bg-color: #3B4455;\n",
              "      --disabled-fill-color: #666;\n",
              "  }\n",
              "\n",
              "  .colab-df-quickchart {\n",
              "    background-color: var(--bg-color);\n",
              "    border: none;\n",
              "    border-radius: 50%;\n",
              "    cursor: pointer;\n",
              "    display: none;\n",
              "    fill: var(--fill-color);\n",
              "    height: 32px;\n",
              "    padding: 0;\n",
              "    width: 32px;\n",
              "  }\n",
              "\n",
              "  .colab-df-quickchart:hover {\n",
              "    background-color: var(--hover-bg-color);\n",
              "    box-shadow: 0 1px 2px rgba(60, 64, 67, 0.3), 0 1px 3px 1px rgba(60, 64, 67, 0.15);\n",
              "    fill: var(--button-hover-fill-color);\n",
              "  }\n",
              "\n",
              "  .colab-df-quickchart-complete:disabled,\n",
              "  .colab-df-quickchart-complete:disabled:hover {\n",
              "    background-color: var(--disabled-bg-color);\n",
              "    fill: var(--disabled-fill-color);\n",
              "    box-shadow: none;\n",
              "  }\n",
              "\n",
              "  .colab-df-spinner {\n",
              "    border: 2px solid var(--fill-color);\n",
              "    border-color: transparent;\n",
              "    border-bottom-color: var(--fill-color);\n",
              "    animation:\n",
              "      spin 1s steps(1) infinite;\n",
              "  }\n",
              "\n",
              "  @keyframes spin {\n",
              "    0% {\n",
              "      border-color: transparent;\n",
              "      border-bottom-color: var(--fill-color);\n",
              "      border-left-color: var(--fill-color);\n",
              "    }\n",
              "    20% {\n",
              "      border-color: transparent;\n",
              "      border-left-color: var(--fill-color);\n",
              "      border-top-color: var(--fill-color);\n",
              "    }\n",
              "    30% {\n",
              "      border-color: transparent;\n",
              "      border-left-color: var(--fill-color);\n",
              "      border-top-color: var(--fill-color);\n",
              "      border-right-color: var(--fill-color);\n",
              "    }\n",
              "    40% {\n",
              "      border-color: transparent;\n",
              "      border-right-color: var(--fill-color);\n",
              "      border-top-color: var(--fill-color);\n",
              "    }\n",
              "    60% {\n",
              "      border-color: transparent;\n",
              "      border-right-color: var(--fill-color);\n",
              "    }\n",
              "    80% {\n",
              "      border-color: transparent;\n",
              "      border-right-color: var(--fill-color);\n",
              "      border-bottom-color: var(--fill-color);\n",
              "    }\n",
              "    90% {\n",
              "      border-color: transparent;\n",
              "      border-bottom-color: var(--fill-color);\n",
              "    }\n",
              "  }\n",
              "</style>\n",
              "\n",
              "  <script>\n",
              "    async function quickchart(key) {\n",
              "      const quickchartButtonEl =\n",
              "        document.querySelector('#' + key + ' button');\n",
              "      quickchartButtonEl.disabled = true;  // To prevent multiple clicks.\n",
              "      quickchartButtonEl.classList.add('colab-df-spinner');\n",
              "      try {\n",
              "        const charts = await google.colab.kernel.invokeFunction(\n",
              "            'suggestCharts', [key], {});\n",
              "      } catch (error) {\n",
              "        console.error('Error during call to suggestCharts:', error);\n",
              "      }\n",
              "      quickchartButtonEl.classList.remove('colab-df-spinner');\n",
              "      quickchartButtonEl.classList.add('colab-df-quickchart-complete');\n",
              "    }\n",
              "    (() => {\n",
              "      let quickchartButtonEl =\n",
              "        document.querySelector('#df-f8c8ec8e-5f5e-4643-9b31-e984c7dd6d6b button');\n",
              "      quickchartButtonEl.style.display =\n",
              "        google.colab.kernel.accessAllowed ? 'block' : 'none';\n",
              "    })();\n",
              "  </script>\n",
              "</div>\n",
              "\n",
              "  <div id=\"id_088d924a-8f89-402c-852b-43efe2566009\">\n",
              "    <style>\n",
              "      .colab-df-generate {\n",
              "        background-color: #E8F0FE;\n",
              "        border: none;\n",
              "        border-radius: 50%;\n",
              "        cursor: pointer;\n",
              "        display: none;\n",
              "        fill: #1967D2;\n",
              "        height: 32px;\n",
              "        padding: 0 0 0 0;\n",
              "        width: 32px;\n",
              "      }\n",
              "\n",
              "      .colab-df-generate:hover {\n",
              "        background-color: #E2EBFA;\n",
              "        box-shadow: 0px 1px 2px rgba(60, 64, 67, 0.3), 0px 1px 3px 1px rgba(60, 64, 67, 0.15);\n",
              "        fill: #174EA6;\n",
              "      }\n",
              "\n",
              "      [theme=dark] .colab-df-generate {\n",
              "        background-color: #3B4455;\n",
              "        fill: #D2E3FC;\n",
              "      }\n",
              "\n",
              "      [theme=dark] .colab-df-generate:hover {\n",
              "        background-color: #434B5C;\n",
              "        box-shadow: 0px 1px 3px 1px rgba(0, 0, 0, 0.15);\n",
              "        filter: drop-shadow(0px 1px 2px rgba(0, 0, 0, 0.3));\n",
              "        fill: #FFFFFF;\n",
              "      }\n",
              "    </style>\n",
              "    <button class=\"colab-df-generate\" onclick=\"generateWithVariable('GULFA')\"\n",
              "            title=\"Generate code using this dataframe.\"\n",
              "            style=\"display:none;\">\n",
              "\n",
              "  <svg xmlns=\"http://www.w3.org/2000/svg\" height=\"24px\"viewBox=\"0 0 24 24\"\n",
              "       width=\"24px\">\n",
              "    <path d=\"M7,19H8.4L18.45,9,17,7.55,7,17.6ZM5,21V16.75L18.45,3.32a2,2,0,0,1,2.83,0l1.4,1.43a1.91,1.91,0,0,1,.58,1.4,1.91,1.91,0,0,1-.58,1.4L9.25,21ZM18.45,9,17,7.55Zm-12,3A5.31,5.31,0,0,0,4.9,8.1,5.31,5.31,0,0,0,1,6.5,5.31,5.31,0,0,0,4.9,4.9,5.31,5.31,0,0,0,6.5,1,5.31,5.31,0,0,0,8.1,4.9,5.31,5.31,0,0,0,12,6.5,5.46,5.46,0,0,0,6.5,12Z\"/>\n",
              "  </svg>\n",
              "    </button>\n",
              "    <script>\n",
              "      (() => {\n",
              "      const buttonEl =\n",
              "        document.querySelector('#id_088d924a-8f89-402c-852b-43efe2566009 button.colab-df-generate');\n",
              "      buttonEl.style.display =\n",
              "        google.colab.kernel.accessAllowed ? 'block' : 'none';\n",
              "\n",
              "      buttonEl.onclick = () => {\n",
              "        google.colab.notebook.generateWithVariable('GULFA');\n",
              "      }\n",
              "      })();\n",
              "    </script>\n",
              "  </div>\n",
              "\n",
              "    </div>\n",
              "  </div>\n"
            ],
            "application/vnd.google.colaboratory.intrinsic+json": {
              "type": "dataframe",
              "variable_name": "GULFA"
            }
          },
          "metadata": {},
          "execution_count": 16
        }
      ]
    },
    {
      "cell_type": "markdown",
      "source": [
        "**Save the Dataset**<br>\n",
        "Export the final dataset as a .csv **file**"
      ],
      "metadata": {
        "id": "fWLtE3EURKpj"
      }
    },
    {
      "cell_type": "code",
      "source": [
        "GULFA.to_csv(\"USA_Gulf_subset.csv\", index=False)"
      ],
      "metadata": {
        "id": "tFRHl1bZRKGs"
      },
      "execution_count": 18,
      "outputs": []
    }
  ]
}